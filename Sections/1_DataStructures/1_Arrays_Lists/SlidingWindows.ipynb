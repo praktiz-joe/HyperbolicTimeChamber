{
 "cells": [
  {
   "cell_type": "markdown",
   "id": "82d3de83",
   "metadata": {},
   "source": [
    "### 1.2.1 Sliding Windows Technique"
   ]
  },
  {
   "cell_type": "code",
   "execution_count": null,
   "id": "12b078f7",
   "metadata": {},
   "outputs": [],
   "source": [
    "# Example 1: Find the Longest subarray with a sum less than or equal to K\n",
    "def longestSubArray(arr,k):\n",
    "    left = curr = ans = 0\n",
    "    for right in range(len(arr)):\n",
    "        curr += arr[right]\n",
    "        while curr > k: #sum bigger than K which is the constraint\n",
    "            curr -= arr[left]\n",
    "            left += 1\n",
    "        ans = max(ans,right - left + 1)\n",
    "    return ans\n",
    "longestSubArray([7,2,4,1,3,6],10) # o/p: 4"
   ]
  },
  {
   "cell_type": "code",
   "execution_count": null,
   "id": "815361cb",
   "metadata": {},
   "outputs": [],
   "source": [
    "# Example 2: Binary SubArray - Given a binary substring s (contains only 0,1's) \n",
    "#                              and only being able to flip a 0 into 1 once, \n",
    "#                              find the length of the longest substring containing only one after doing the flip.\n",
    "def binarySubArray(s):\n",
    "    curr = left = ans = 0\n",
    "    for right in range(len(s)):  # Iterate the array\n",
    "        if s[right] == 0:\n",
    "            curr += 1\n",
    "        while curr > 1:\n",
    "            if s[left] == 0:\n",
    "                curr -= 1\n",
    "            left += 1\n",
    "        ans = max(ans, right - left + 1)\n",
    "    return ans\n",
    "binarySubArray([1,1,0,1,1,0,0,1,1,1]) # o/p = 5"
   ]
  },
  {
   "cell_type": "code",
   "execution_count": null,
   "id": "54404db4",
   "metadata": {},
   "outputs": [],
   "source": [
    "# # Example 3: Fixed Window Size\n",
    "# Approach 1:\n",
    "def fn(arr,k):\n",
    "    curr = ans = 0\n",
    "    # curr = data type\n",
    "    # build first window\n",
    "    for i in range(k):\n",
    "        curr += arr[i]\n",
    "    for i in range(k,len(arr)):\n",
    "        curr += arr[i]\n",
    "        curr -= arr[i-k]\n",
    "        ans = max(ans, curr)\n",
    "    return ans\n",
    "\n",
    "# Approach 2:\n",
    "def fn(arr,k):\n",
    "    curr = ans = 0\n",
    "    ans = max(ans,curr)\n",
    "    for i in range(len(arr)):\n",
    "        if i > k:\n",
    "            ans = max(ans,curr)\n",
    "            curr -= arr[i-k]\n",
    "        curr += arr[i]\n",
    "    ans = max(ans,curr)\n",
    "    return ans"
   ]
  },
  {
   "cell_type": "code",
   "execution_count": null,
   "id": "8a6831be",
   "metadata": {},
   "outputs": [],
   "source": [
    "# Exercises: \n",
    "# 1. Maximum Average Subarray I: find maximum average valu, given array nums and k (lenght of window)\n",
    "def findMaxAverage(nums, k):\n",
    "    curr = ans = 0\n",
    "    for i in range(k):\n",
    "        curr += nums[i]\n",
    "        ans = curr/k\n",
    "    for i in range(k, len(nums)):\n",
    "        curr += nums[i]\n",
    "        curr -= nums[i-k]\n",
    "        ans = max(curr/k, ans)\n",
    "    return ans\n",
    "\n",
    "# 2. Max Consecutive Ones III: return max consecutive 1s in the array if you can flip at most k 0's\n",
    "def maxConsecutive(nums, k):\n",
    "    left = curr = ans = 0\n",
    "    for right in range(len(nums)):\n",
    "        if nums[right] == 0:\n",
    "            curr += 1\n",
    "            while curr > k:\n",
    "                if nums[left] == 0\n",
    "                    curr -= 1\n",
    "                left += 1\n",
    "            ans = max(ans, right - left + 1)\n",
    "        return ans"
   ]
  },
  {
   "cell_type": "code",
   "execution_count": null,
   "id": "7fb0af24",
   "metadata": {},
   "outputs": [],
   "source": [
    "# 2348. Number of Zero-Filled Subarrays\n",
    "# Find the number of subarrays filled with Zero\n",
    "    def zeroFilledSubarray(self, nums: List[int]) -> int:\n",
    "        left = ans = 0\n",
    "        for right in range(len(nums)):\n",
    "            if nums[right] == 0:\n",
    "                ans += right - left + 1\n",
    "            else:\n",
    "                left = right + 1\n",
    "        return ans"
   ]
  },
  {
   "cell_type": "code",
   "execution_count": null,
   "id": "fe9b8a28",
   "metadata": {},
   "outputs": [],
   "source": []
  }
 ],
 "metadata": {
  "kernelspec": {
   "display_name": "Python 3 (ipykernel)",
   "language": "python",
   "name": "python3"
  },
  "language_info": {
   "codemirror_mode": {
    "name": "ipython",
    "version": 3
   },
   "file_extension": ".py",
   "mimetype": "text/x-python",
   "name": "python",
   "nbconvert_exporter": "python",
   "pygments_lexer": "ipython3",
   "version": "3.9.7"
  }
 },
 "nbformat": 4,
 "nbformat_minor": 5
}

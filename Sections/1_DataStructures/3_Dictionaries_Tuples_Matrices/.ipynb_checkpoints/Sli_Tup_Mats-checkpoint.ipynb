{
 "cells": [
  {
   "cell_type": "markdown",
   "id": "bbaf31b1",
   "metadata": {},
   "source": [
    "### Matrices / 2D Arrays \n",
    "```\n",
    "import this # The Zen of Python\n",
    "writing Pythonic Code\n",
    "```"
   ]
  },
  {
   "cell_type": "code",
   "execution_count": 3,
   "id": "7a085383",
   "metadata": {},
   "outputs": [],
   "source": [
    "# Exercise 1: How to initialize an 2D Array\n",
    "matrix = [[1, 2, 3], [5, 6, 7]]    # it can be initialized as a list of lists \n"
   ]
  },
  {
   "cell_type": "code",
   "execution_count": 4,
   "id": "19c31f03",
   "metadata": {},
   "outputs": [
    {
     "name": "stdout",
     "output_type": "stream",
     "text": [
      "6\n",
      "[[1, 2, 3], [5, 99, 7]]\n"
     ]
    }
   ],
   "source": [
    "# Exercise 2: Replace number 6 with 99\n",
    "\n",
    "# element 6 exists in the second row, second column, so the element index is matrix[1][1]\n",
    "print(matrix[1][1])\n",
    "\n",
    "# to replace, just type the following:\n",
    "matrix[1][1] = 99\n",
    "\n",
    "print(matrix) # here you can see we replaced 6 with 99 at matrix[1][1]"
   ]
  },
  {
   "cell_type": "code",
   "execution_count": 6,
   "id": "38b38ae6",
   "metadata": {},
   "outputs": [],
   "source": [
    "# Exercise 3:"
   ]
  },
  {
   "cell_type": "code",
   "execution_count": null,
   "id": "c3048ca9",
   "metadata": {},
   "outputs": [],
   "source": []
  }
 ],
 "metadata": {
  "kernelspec": {
   "display_name": "Python 3 (ipykernel)",
   "language": "python",
   "name": "python3"
  },
  "language_info": {
   "codemirror_mode": {
    "name": "ipython",
    "version": 3
   },
   "file_extension": ".py",
   "mimetype": "text/x-python",
   "name": "python",
   "nbconvert_exporter": "python",
   "pygments_lexer": "ipython3",
   "version": "3.9.7"
  }
 },
 "nbformat": 4,
 "nbformat_minor": 5
}

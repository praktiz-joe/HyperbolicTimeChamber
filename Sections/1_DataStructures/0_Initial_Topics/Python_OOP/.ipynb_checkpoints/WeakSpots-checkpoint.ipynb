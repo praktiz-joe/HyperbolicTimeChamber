{
 "cells": [
  {
   "cell_type": "code",
   "execution_count": 30,
   "id": "8d200313",
   "metadata": {},
   "outputs": [
    {
     "ename": "SyntaxError",
     "evalue": "invalid syntax (3652219658.py, line 29)",
     "output_type": "error",
     "traceback": [
      "\u001b[1;36m  Input \u001b[1;32mIn [30]\u001b[1;36m\u001b[0m\n\u001b[1;33m    or count_to_ten[8:0:-3]\u001b[0m\n\u001b[1;37m    ^\u001b[0m\n\u001b[1;31mSyntaxError\u001b[0m\u001b[1;31m:\u001b[0m invalid syntax\n"
     ]
    }
   ],
   "source": [
    "# Slicing Exercise Problems\n",
    "from string import ascii_uppercase\n",
    "subset = \"\"\n",
    "for idx, letter in enumerate(ascii_uppercase):\n",
    "    if idx %4 == 0:\n",
    "        subset = subset + letter\n",
    "print(subset)\n",
    "\n",
    "# 1. Can you replace all but the \n",
    "# import statement with a slice and get the same result?\n",
    "from string import ascii_uppercase\n",
    "print(ascii_uppercase[::4])\n",
    "\n",
    "# 2. Print the alphabet of ascii_uppercase backwards\n",
    "print(ascii_uppercase[::-1])\n",
    "\n",
    "# 3.  # Extract needle from the haystack string \n",
    "example = \"Hay hay hay hey hey nah needle nah nah nah, hey hey, goodbye.\"\n",
    "length = len(\"needle\")\n",
    "index = example.index(\"needle\")\n",
    "\n",
    "print(example[index: index + length+1])\n",
    "\n",
    "# 4. Base on the list below, print([9,6,3])\n",
    "count_to_ten = [num for num in range(1,11)]\n",
    "arr = [num for num in count_to_ten if num % 3 == 0]\n",
    "print(arr[::-1])\n",
    "\n",
    "# or count_to_ten[8:0:-3]\n",
    "\n",
    "# 5. Given the following code, write a concise expression \n",
    "# to index the word shrubbery from tokens array\n",
    "tokens = \"Is there anywhere in this town where we could buy a shrubbery\".split(\" \")\n",
    "#index\n",
    "# print(tokens.index(\"shrubbery\"))\n",
    "# full word\n",
    "print(tokens[tokens.index(\"shrubbery\"): tokens.index(\"shrubbery\") + len(\"shrubbery)+1\")])\n",
    "\n",
    "# 6. 2\n",
    "# 7. first prints 'o' , second prints error index out of range\n",
    "# 8. by finding the index\n",
    "\n",
    "\n",
    "# GREAT JOB! With the Slicing Problems"
   ]
  },
  {
   "cell_type": "code",
   "execution_count": null,
   "id": "81124d9f",
   "metadata": {},
   "outputs": [],
   "source": []
  },
  {
   "cell_type": "code",
   "execution_count": null,
   "id": "fc828a63",
   "metadata": {},
   "outputs": [],
   "source": []
  }
 ],
 "metadata": {
  "kernelspec": {
   "display_name": "Python 3 (ipykernel)",
   "language": "python",
   "name": "python3"
  },
  "language_info": {
   "codemirror_mode": {
    "name": "ipython",
    "version": 3
   },
   "file_extension": ".py",
   "mimetype": "text/x-python",
   "name": "python",
   "nbconvert_exporter": "python",
   "pygments_lexer": "ipython3",
   "version": "3.9.12"
  }
 },
 "nbformat": 4,
 "nbformat_minor": 5
}

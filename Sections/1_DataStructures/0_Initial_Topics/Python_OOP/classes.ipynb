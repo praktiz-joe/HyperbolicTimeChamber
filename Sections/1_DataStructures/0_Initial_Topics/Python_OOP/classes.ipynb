{
 "cells": [
  {
   "cell_type": "markdown",
   "id": "8ce1d30b",
   "metadata": {},
   "source": [
    "# Python OOP\n",
    "\n",
    "### Classes\n",
    "##### A class is like a form that has some structure but has no rela data applied. It contains the fields (data) and what to do with that information (Methods/Functions).\n",
    "\n",
    "1. Create a class:\n",
    "```\n",
    "class ClassName:\n",
    "    pass\n",
    "```\n",
    "> pass is used when theres no implementation added yet.\n",
    "\n",
    "2. Initialize the constructor:\n",
    "```\n",
    "class ClassName:\n",
    "    # class attributes\n",
    "    var0 = \"Something here\"\n",
    "    def __init__(self, param1, param2):\n",
    "        # do something here that will be used by all instances of the class \n",
    "        # pass\n",
    "        self.val1 = param1\n",
    "        self.val2 = param2\n",
    "```\n",
    "> The great thing about constructors is that if you have something that should happen to every object of the class, then you can add it here so that every object at initialization will include that data. Keep in mind, that declaring the instance attribute, they're specific for each instance (i.e., every dog has a name and age, but each dog not necessarily has the same age + name combination\n",
    "\n",
    "3. Class Methods:\n",
    "```\n",
    "class ClassName:\n",
    "    var0 = \"Something here\"\n",
    "    def __init__(self, param1, param2):\n",
    "        # do something here that will be used by all instances of the class \n",
    "        # pass\n",
    "        self.val1 = param1\n",
    "        self.val2 = param2\n",
    "    def method1(self):\n",
    "        # statements...\n",
    "```\n"
   ]
  },
  {
   "cell_type": "code",
   "execution_count": 8,
   "id": "d09f98da",
   "metadata": {},
   "outputs": [
    {
     "data": {
      "text/plain": [
       "\"My name is Coco and I'm 4 years old!\""
      ]
     },
     "execution_count": 8,
     "metadata": {},
     "output_type": "execute_result"
    }
   ],
   "source": [
    "# Example of a class Implementation Code:\n",
    "\n",
    "class Dog:\n",
    "    # declare class attributes\n",
    "    species = \"Caninus cuatropati\"\n",
    "    \n",
    "    def __init__(self, name, age):\n",
    "        # declare instance attributes\n",
    "        self.name = name\n",
    "        self.age = age\n",
    "    def description(self):\n",
    "        return f\"My name is {self.name} and I'm {self.age} years old!\"\n",
    "\n",
    "a = Dog(\"Coco\", 4)\n",
    "a.description()\n"
   ]
  },
  {
   "cell_type": "markdown",
   "id": "9948fb98",
   "metadata": {},
   "source": [
    "### Class Inheritance\n",
    "\n",
    "##### A class that reference and uses attributes/methods from another class is called a child class, the one that is sharing these attributes is called a parent class."
   ]
  },
  {
   "cell_type": "code",
   "execution_count": 15,
   "id": "6bd0cbdc",
   "metadata": {},
   "outputs": [
    {
     "name": "stdout",
     "output_type": "stream",
     "text": [
      "Cottle\n"
     ]
    }
   ],
   "source": [
    "# Inherited class\n",
    "class MaltiPoo(Dog):\n",
    "    pass\n",
    "x = MaltiPoo(\"Cottle\", 2)\n",
    "print(x.name)"
   ]
  },
  {
   "cell_type": "code",
   "execution_count": null,
   "id": "73d6e420",
   "metadata": {},
   "outputs": [],
   "source": []
  }
 ],
 "metadata": {
  "kernelspec": {
   "display_name": "Python 3 (ipykernel)",
   "language": "python",
   "name": "python3"
  },
  "language_info": {
   "codemirror_mode": {
    "name": "ipython",
    "version": 3
   },
   "file_extension": ".py",
   "mimetype": "text/x-python",
   "name": "python",
   "nbconvert_exporter": "python",
   "pygments_lexer": "ipython3",
   "version": "3.9.12"
  }
 },
 "nbformat": 4,
 "nbformat_minor": 5
}

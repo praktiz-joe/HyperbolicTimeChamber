{
 "cells": [
  {
   "cell_type": "markdown",
   "id": "4d620691",
   "metadata": {},
   "source": [
    "# Arrays\n",
    "- Arrays and strings are very similar in terms of algorithmic problems\n",
    "- Arrays can't be resized but dynamic arrays or list can\n",
    "- In Python arrays are immutable (can't be modified, it'll create a new one)\n",
    "\n",
    "## Essential Array Concepts and Methods\n",
    "### 1.1.1 Two Pointers Technique \n",
    "\n",
    "Two pointers involve having two int variables moving along an iterable object.\n",
    "- Method 1:\n",
    "> Start i at index 0 and j at index (len(object)-1)\n",
    ">\n",
    "> While loop until i == j\n",
    ">\n",
    "> At each iteracion, increment i,j, or both depending on the problem you're trying to solve\n",
    "\n",
    "```\n",
    "def pairSum(Arr, n):\n",
    "    i = 0\n",
    "    j = len(Arr) - 1\n",
    "    \n",
    "    while i < j:\n",
    "        if Arr[i] + Arr[j] == n:\n",
    "            return i,j\n",
    "        elif Arr[i] + Arr[j] < n:\n",
    "            i += 1\n",
    "        else:\n",
    "            j += 1\n",
    "    return -1\n",
    "```\n",
    "\n",
    "- Method 2: When given two iterables inputs (i.e., two arrays):\n",
    "> Start both indexes i,j, pointing at the first element of both arrays \n",
    ">\n",
    "> While loop until one of the two reaches the end\n",
    ">\n",
    "> Move pointer(s) forward (one, two, or both), depending on the problem you're trying to solve\n",
    "> \n",
    "> When one pointer finish, that may not be the end of the other one, so you'll need to finish the other one as well.\n",
    "\n",
    "```\n",
    "def mergeAB(A,B):\n",
    "    ans = []\n",
    "    i = A[0]\n",
    "    j = B[0]\n",
    "    \n",
    "    while i < len(A) or j < len(B):\n",
    "        if A[i] <= B[j]:\n",
    "            ans.append(A[i])\n",
    "            i += 1\n",
    "        else: \n",
    "            ans.append(B[j])\n",
    "            j += 1\n",
    "    while i < len(A):\n",
    "        ans.append(A[i])\n",
    "        i += 1\n",
    "    while j < len(B):\n",
    "        ans.append(B[j])\n",
    "        j += 1\n",
    "    return ans\n",
    "```\n"
   ]
  },
  {
   "cell_type": "markdown",
   "id": "66b1e553",
   "metadata": {},
   "source": [
    "### 1.1.2 Two Pointers Exercises"
   ]
  },
  {
   "cell_type": "code",
   "execution_count": null,
   "id": "0e8c96ad",
   "metadata": {},
   "outputs": [],
   "source": [
    "# Exercise 392. Is Subsequence \n",
    "def subSeq(n,A):\n",
    "    i = 0\n",
    "    j = 0\n",
    "    while j < len(A):\n",
    "        if n[i] == A[j]:\n",
    "            i += 1\n",
    "        j += 1\n",
    "        if len(n) == i:\n",
    "            return True\n",
    "    return False"
   ]
  },
  {
   "cell_type": "code",
   "execution_count": null,
   "id": "c5fc6742",
   "metadata": {},
   "outputs": [],
   "source": [
    "# Exercise 344: Reverse a string\n",
    "def reverseString(s):\n",
    "    i = 0\n",
    "    j = len(s)-1\n",
    "    while i < j:\n",
    "        a = s[i]\n",
    "        s[i] = s[j]\n",
    "        s[j] = a\n",
    "        i+= 1\n",
    "        j -= 1\n",
    "    return s\n",
    "\n",
    "# Method 2: \n",
    "# return(s[::-1])\n",
    "    \n",
    "\n",
    "reverseString([\"H\",\"a\",\"n\",\"n\",\"a\",\"h\"])"
   ]
  },
  {
   "cell_type": "code",
   "execution_count": null,
   "id": "4124eb65",
   "metadata": {},
   "outputs": [],
   "source": [
    "# Exercise XXX: Container with Most Water\n",
    "def maxArea(height):\n",
    "    n = height\n",
    "    i = 0\n",
    "    j = len(n) - 1\n",
    "    area = 0\n",
    "    if len(n) == 2:\n",
    "        return min(n[i],n[j])\n",
    "    else:\n",
    "        while i < j:\n",
    "            print(n[i], n[j])\n",
    "            h = min(n[i], n[j])\n",
    "            w = j - i\n",
    "            area = max(area,h * w)\n",
    "            if n[i] <= n[j]:\n",
    "                i += 1\n",
    "            else: \n",
    "                j -= 1\n",
    "    return area\n",
    "\n",
    "# test\n",
    "maxArea([1,8,3])"
   ]
  },
  {
   "cell_type": "code",
   "execution_count": null,
   "id": "9ea93e8b",
   "metadata": {},
   "outputs": [],
   "source": [
    "def isPalindrome(s):\n",
    "    # fix string\n",
    "    s = s.strip().replace(\" \",\"\")\n",
    "    s = ''.join(ch for ch in s if ch.isalnum())\n",
    "    s = s.upper()\n",
    "    # validate is palindrome\n",
    "    i = 0\n",
    "    j = len(s)-1\n",
    "    while i < j:\n",
    "        if s[i] != s[j]:\n",
    "            return False\n",
    "        i +=1; \n",
    "        j-=1\n",
    "    return True\n",
    "    \n",
    "# test    \n",
    "s = \"apAp\"\n",
    "isPalindrome(s)"
   ]
  },
  {
   "cell_type": "code",
   "execution_count": null,
   "id": "2a2e486a",
   "metadata": {},
   "outputs": [],
   "source": [
    "def validPalindrome(s):\n",
    "    s = list(s)\n",
    "    i = 0\n",
    "    j = len(s)-1\n",
    "    if len(s) <= 1:\n",
    "        return True\n",
    "    else:\n",
    "        while i < j:\n",
    "            if s[i] != s[j]:\n",
    "                str1 = s[:i] + s[i+1:]\n",
    "                str2 = s[:j] + s[j+1:]\n",
    "                return str1 == str1[::-1] or str2 == str2[::-1]\n",
    "            i += 1\n",
    "            j -= 1\n",
    "        return True\n",
    "\n",
    "#test\n",
    "validPalindrome(\"absdsta\")"
   ]
  },
  {
   "cell_type": "markdown",
   "id": "bdb9c741",
   "metadata": {},
   "source": [
    "### 1.2.1 Sliding Windows Technique\n",
    "Subarrays: sections of an original array. In this case we will call a subarray a window\n",
    "> The elements needs to be contiguos and in order.\n",
    ">\n",
    "> Subarrays are defined by to indexes: left bound(starting index) and right bound(ending index.\n",
    "\n",
    "The idea of the sliding windows technique is to find the best window that fits some constraint\n",
    "> i.e., largest sum, shortest length, etc...\n",
    "\n",
    "The general algorithm behind sliding windows is:\n",
    "1. Define two pointers, one for the left bound and one for the right bound that represents the current window (usually starting at 0).\n",
    "2. Iterate over the array with the right bound to add elements to the window.\n",
    "3. If the window constraint is broken, remove elements from the window by increasing the left bound until satisfied again.\n",
    "\n",
    "\n",
    "3. Whenever the constraint is broken, remove elements from the window by moving the left bound up until the condition is satisfied again.\n",
    "\n",
    "pseudo:\n",
    "```\n",
    "def function fn(arr):\n",
    "    left, right = 0,0\n",
    "    while right < len(arr)-1 :\n",
    "        while left < right AND  ConditionNotMet:\n",
    "        do some logic the remove left bound from window\n",
    "        left ++\n",
    "       Do some logic to add element at the right bound of window\n",
    "```\n",
    "\n",
    "\n",
    "\n"
   ]
  },
  {
   "cell_type": "code",
   "execution_count": 1,
   "id": "47606a16",
   "metadata": {},
   "outputs": [
    {
     "data": {
      "text/plain": [
       "4"
      ]
     },
     "execution_count": 1,
     "metadata": {},
     "output_type": "execute_result"
    }
   ],
   "source": [
    "# Example 1: Find the Longest subarray with a sum less than or equal to K\n",
    "def longestSubArray(arr,k):\n",
    "    left = curr = ans = 0\n",
    "    for right in range(len(arr)):\n",
    "        curr += arr[right]\n",
    "        while curr > k: #sum bigger than K which is the constraint\n",
    "            curr -= arr[left]\n",
    "            left += 1\n",
    "        ans = max(ans,right - left + 1)\n",
    "    return ans\n",
    "longestSubArray([7,2,4,1,3,6],10) # o/p: 4"
   ]
  },
  {
   "cell_type": "code",
   "execution_count": 2,
   "id": "c3749b63",
   "metadata": {},
   "outputs": [
    {
     "data": {
      "text/plain": [
       "5"
      ]
     },
     "execution_count": 2,
     "metadata": {},
     "output_type": "execute_result"
    }
   ],
   "source": [
    "# Example 2: Binary SubArray - Given a binary substring s (contains only 0,1's) \n",
    "#                              and only being able to flip a 0 into 1 once, \n",
    "#                              find the length of the longest substring containing only one after doing the flip.\n",
    "def binarySubArray(s):\n",
    "    curr = left = ans = 0\n",
    "    for right in range(len(s)):  # Iterate the array\n",
    "        if s[right] == 0:\n",
    "            curr += 1\n",
    "        while curr > 1:\n",
    "            if s[left] == 0:\n",
    "                curr -= 1\n",
    "            left += 1\n",
    "        ans = max(ans, right - left + 1)\n",
    "    return ans\n",
    "binarySubArray([1,1,0,1,1,0,0,1,1,1]) # o/p = 5\n"
   ]
  },
  {
   "cell_type": "code",
   "execution_count": 3,
   "id": "50381a8b",
   "metadata": {},
   "outputs": [],
   "source": [
    "# # Example: Fixed Window Size\n",
    "# # Approach 1:\n",
    "# def fn(arr,k):\n",
    "#     curr = ans = 0\n",
    "#     curr = data type\n",
    "#     # build first window\n",
    "#     for i in range(k):\n",
    "#         curr += arr[i]\n",
    "#     for i in range(k,len(arr)):\n",
    "#         curr += arr[i]\n",
    "#         curr -= arr[i-k]\n",
    "#         ans = max(ans, curr)\n",
    "#     return ans\n",
    "\n",
    "# # Approach 2:\n",
    "# def fn(arr,k):\n",
    "#     curr = ans = 0\n",
    "#     ans = max(ans,curr)\n",
    "#     for i in range(len(arr)):\n",
    "#         if i > k:\n",
    "#             ans = max(ans,curr)\n",
    "#             curr -= arr[i-k]\n",
    "#         curr += arr[i]\n",
    "#     ans = max(ans,curr)\n",
    "#     return ans"
   ]
  },
  {
   "cell_type": "code",
   "execution_count": 4,
   "id": "8ae94fe6",
   "metadata": {},
   "outputs": [],
   "source": [
    "# Exercises: \n",
    "# 1. Maximum Average Subarray I: find maximum average valu, given array nums and k (lenght of window)\n",
    "def findMaxAverage(nums, k):\n",
    "    curr = ans = 0\n",
    "    for i in range(k):\n",
    "        curr += nums[i]\n",
    "        ans = curr/k\n",
    "    for i in range(k, len(nums)):\n",
    "        curr += nums[i]\n",
    "        curr -= nums[i-k]\n",
    "        ans = max(curr/k, ans)\n",
    "    return ans\n",
    "\n",
    "# 2. Max Consecutive Ones III: return max consecutive 1s in the array if you can flip at most k 0's\n",
    "def maxConsecutive(nums, k):\n",
    "    left = curr = ans = 0\n",
    "    for right in range(len(nums)):\n",
    "        if nums[right] == 0:\n",
    "            curr += 1\n",
    "            while curr > k:\n",
    "                if nums[left] == 0\n",
    "                    curr -= 1\n",
    "                left += 1\n",
    "            ans = max(ans, right - left + 1)\n",
    "        return ans"
   ]
  },
  {
   "cell_type": "code",
   "execution_count": 34,
   "id": "dc0959d2",
   "metadata": {},
   "outputs": [
    {
     "name": "stdout",
     "output_type": "stream",
     "text": [
      "[[2, 15], [4, 9], [9, 29], [16, 23], [36, 45]]\n",
      "15\n",
      "9\n",
      "29\n",
      "23\n"
     ]
    },
    {
     "data": {
      "text/plain": [
       "3"
      ]
     },
     "execution_count": 34,
     "metadata": {},
     "output_type": "execute_result"
    }
   ],
   "source": [
    "# 253. Meeting Rooms II: return the minimum number of conference \n",
    "# rooms required.\n",
    "# def minMeetingRooms(intervals):\n",
    "#     if len(intervals) <= 1:\n",
    "#         return len(intervals)\n",
    "#     intervals.sort(key=lambda x:x[0])\n",
    "#     print(intervals)\n",
    "#     i,j = 0,1\n",
    "#     curr = 1\n",
    "#     ans = intervals[0][1]\n",
    "#     while i < len(intervals)-1:\n",
    "#         print(ans)\n",
    "#         if intervals[i][1] > intervals[j][0]:\n",
    "#             curr += 1\n",
    "#             ans = min(ans, intervals[j][1])\n",
    "#             if intervals[j][0] >= ans:\n",
    "#                 curr -= 1\n",
    "#                 ans = max(ans, intervals[j][1])\n",
    "#         else:\n",
    "#             ans = min(ans,intervals[j][1]\n",
    "#         i += 1 \n",
    "#         j += 1\n",
    "#     return curr\n",
    "\n",
    "\n",
    "\n",
    "\n",
    "# minMeetingRooms([[2,15],[36,45],[9,29],[16,23],[4,9]])\n",
    "\n",
    "# didn't worked "
   ]
  },
  {
   "cell_type": "code",
   "execution_count": null,
   "id": "a90dec33",
   "metadata": {},
   "outputs": [],
   "source": []
  },
  {
   "cell_type": "code",
   "execution_count": null,
   "id": "38a19f1d",
   "metadata": {},
   "outputs": [],
   "source": []
  }
 ],
 "metadata": {
  "kernelspec": {
   "display_name": "Python 3 (ipykernel)",
   "language": "python",
   "name": "python3"
  },
  "language_info": {
   "codemirror_mode": {
    "name": "ipython",
    "version": 3
   },
   "file_extension": ".py",
   "mimetype": "text/x-python",
   "name": "python",
   "nbconvert_exporter": "python",
   "pygments_lexer": "ipython3",
   "version": "3.9.12"
  }
 },
 "nbformat": 4,
 "nbformat_minor": 5
}

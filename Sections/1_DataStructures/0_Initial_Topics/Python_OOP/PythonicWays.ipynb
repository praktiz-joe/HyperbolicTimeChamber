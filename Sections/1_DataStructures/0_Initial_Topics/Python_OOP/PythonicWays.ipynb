{
 "cells": [
  {
   "cell_type": "markdown",
   "id": "7953b501",
   "metadata": {},
   "source": [
    "# Writing Pythonic Code"
   ]
  },
  {
   "cell_type": "code",
   "execution_count": 7,
   "id": "7c09aeb8",
   "metadata": {},
   "outputs": [
    {
     "name": "stdout",
     "output_type": "stream",
     "text": [
      "[0, 1, 4, 9, 16, 25, 36, 49, 64, 81]\n",
      "[0, 1, 4, 9, 16, 25, 36, 49, 64, 81]\n",
      "[0, 1, 4, 9, 16, 25, 36, 49, 64, 81]\n"
     ]
    }
   ],
   "source": [
    "#import this # The Zen of Python\n",
    "\n",
    "# list comprehension\n",
    "# instead of \n",
    "result = []\n",
    "for i in range(10):\n",
    "    result.append(i ** 2)\n",
    "print(result)\n",
    "\n",
    "# you can do a one-liner list comprehension\n",
    "result2 = [i ** 2 for i in range(10)]\n",
    "print(result2)\n",
    "\n",
    "# you can also use lambda expression to achieve the same results\n",
    "res = list(map(lambda x : x**2, [i for i in range(10)]))\n",
    "print(res)"
   ]
  },
  {
   "cell_type": "code",
   "execution_count": null,
   "id": "a566d112",
   "metadata": {},
   "outputs": [],
   "source": [
    "# Other resources https://towardsdatascience.com/how-to-write-pythonic-code-208ec1513c49 "
   ]
  }
 ],
 "metadata": {
  "kernelspec": {
   "display_name": "Python 3 (ipykernel)",
   "language": "python",
   "name": "python3"
  },
  "language_info": {
   "codemirror_mode": {
    "name": "ipython",
    "version": 3
   },
   "file_extension": ".py",
   "mimetype": "text/x-python",
   "name": "python",
   "nbconvert_exporter": "python",
   "pygments_lexer": "ipython3",
   "version": "3.9.7"
  }
 },
 "nbformat": 4,
 "nbformat_minor": 5
}

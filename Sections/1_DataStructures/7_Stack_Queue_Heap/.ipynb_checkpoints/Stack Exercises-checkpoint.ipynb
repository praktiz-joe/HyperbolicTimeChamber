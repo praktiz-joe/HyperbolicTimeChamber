{
 "cells": [
  {
   "cell_type": "code",
   "execution_count": null,
   "id": "96e5a676",
   "metadata": {},
   "outputs": [],
   "source": [
    "# #20 Valid Parentheses\n",
    "class Solution:\n",
    "    def isValid(self, s: str) -> bool:\n",
    "        myDict = {'[':']','{':'}','(':')'}\n",
    "        stack = []\n",
    "        for bracket in s:\n",
    "            if bracket == '{' or bracket == '(' or bracket == '[':\n",
    "                stack.append(bracket)\n",
    "            else: \n",
    "                if len(stack) == 0:\n",
    "                    return False\n",
    "                \n",
    "                elif bracket != myDict[stack[len(stack)-1]]:\n",
    "                    return False\n",
    "                else:\n",
    "                    stack.pop(len(stack)-1)\n",
    "        return len(stack) == 0\n",
    "    '''\n",
    "    La logica detras de mi approach:\n",
    "    cree un dict que tiene los pares de brackets (), {}, []\n",
    "    corro a traves del string, \n",
    "     si es un opening bracket, lo añado al tope de mi stack\n",
    "     si no es un opening bracket  \n",
    "        y no hay nada en el stack, return false porque ese bracket no tiene match \n",
    "        y hay algo en el stack pero es !=  al value que tiene el tope de stack          comparado con el elemento i en el string, return False\n",
    "          y matchea con el opening bracket, saca el bracket del tope del stack\n",
    "    al final si el stack esta vacio, significa que todos los brackets abiertos tenian   cerradores correspondientes\n",
    "    '''"
   ]
  }
 ],
 "metadata": {
  "kernelspec": {
   "display_name": "Python 3 (ipykernel)",
   "language": "python",
   "name": "python3"
  },
  "language_info": {
   "codemirror_mode": {
    "name": "ipython",
    "version": 3
   },
   "file_extension": ".py",
   "mimetype": "text/x-python",
   "name": "python",
   "nbconvert_exporter": "python",
   "pygments_lexer": "ipython3",
   "version": "3.9.7"
  }
 },
 "nbformat": 4,
 "nbformat_minor": 5
}

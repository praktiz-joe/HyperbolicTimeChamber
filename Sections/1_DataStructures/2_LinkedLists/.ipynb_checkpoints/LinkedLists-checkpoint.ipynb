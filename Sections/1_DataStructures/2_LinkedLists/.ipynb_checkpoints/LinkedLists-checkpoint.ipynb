{
 "cells": [
  {
   "cell_type": "markdown",
   "id": "1c72d7ad",
   "metadata": {},
   "source": [
    "# Linked Lists"
   ]
  },
  {
   "cell_type": "markdown",
   "id": "91243cb0",
   "metadata": {},
   "source": [
    "### 2.1.1 Linked Lists Overview\n",
    "##### Linked lists are an ordered collection of elements, like arrays. The main difference is the implementation process; they utilize pointers and they are used to implement other data structures as well. \n",
    "\n",
    "#### Topics to be covered: \n",
    "> * Fast and Slow Pointer\n",
    "> * Reversing a linked list\n",
    "> * Singly vs Doubly Linked Lists\n",
    "> * Two Pointers Linked Lists\n",
    "> * Classic Problems\n",
    "\n",
    "What is a linked list?\n",
    "> Sequential list of nodes that hold data which point to other nodes also contaning data (i.e., x|y --> y|r --> r|a)\n",
    "\n",
    "Where is linked lists used?\n",
    "> List, Queue & Stack implementations\n",
    "> \n",
    "> Great to create circular lists\n",
    ">\n",
    "> "
   ]
  },
  {
   "cell_type": "markdown",
   "id": "8d7893d4",
   "metadata": {},
   "source": [
    "### 2.2.1 Fast and Slow Pointers"
   ]
  },
  {
   "cell_type": "markdown",
   "id": "8510dbd1",
   "metadata": {},
   "source": [
    "### 2.3.1 Reversing Linked Lists"
   ]
  }
 ],
 "metadata": {
  "kernelspec": {
   "display_name": "Python 3 (ipykernel)",
   "language": "python",
   "name": "python3"
  },
  "language_info": {
   "codemirror_mode": {
    "name": "ipython",
    "version": 3
   },
   "file_extension": ".py",
   "mimetype": "text/x-python",
   "name": "python",
   "nbconvert_exporter": "python",
   "pygments_lexer": "ipython3",
   "version": "3.9.12"
  }
 },
 "nbformat": 4,
 "nbformat_minor": 5
}

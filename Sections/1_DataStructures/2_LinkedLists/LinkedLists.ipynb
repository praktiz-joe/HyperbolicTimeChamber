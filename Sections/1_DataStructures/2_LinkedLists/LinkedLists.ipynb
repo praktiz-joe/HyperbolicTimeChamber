{
 "cells": [
  {
   "cell_type": "markdown",
   "id": "1c72d7ad",
   "metadata": {},
   "source": [
    "# Linked Lists"
   ]
  },
  {
   "cell_type": "markdown",
   "id": "91243cb0",
   "metadata": {},
   "source": [
    "### 2.1.1 Linked Lists Overview\n",
    "##### Linked lists are an ordered collection of elements, like arrays. The main difference is the implementation process; they utilize pointers and they are used to implement other data structures as well. \n",
    "\n",
    "#### Topics to be covered: \n",
    "> * Fast and Slow Pointer\n",
    "> * Reversing a linked list\n",
    "> * Singly vs Doubly Linked Lists\n",
    "> * Two Pointers Linked Lists\n",
    "> * Classic Problems\n",
    "\n",
    "What is a linked list?\n",
    "> Sequential list of nodes that hold data which point to other nodes also contaning data (i.e., x|y --> y|r --> r|a)\n",
    "\n",
    "Where is linked lists used?\n",
    "> List, Queue & Stack implementations\n",
    "> \n",
    "> Great to create circular lists\n",
    ">\n",
    "> Model real world objects like trains\n",
    ">\n",
    "> Used in separate chaining to deal with hashing collisions\n",
    ">\n",
    "> Used in implementation of adjacency list for graphs\n",
    "\n",
    "\n",
    "#### Terminology\n",
    "> **Head**: is the first node\n",
    ">\n",
    "> **Tail**: is the last node of the list\n",
    ">\n",
    "> **Pointer**: reference to another object\n",
    ">\n",
    "> **Node**: object containing data and pointers\n",
    "\n",
    "Singly linked list vs Doubly linked list\n",
    "\n",
    "in singly linked lists you have the pointer to next node and you keep track of the head/tail for easy add/removes\n",
    "\n",
    "in doubly linked lists, each node holds a reference to the next node and to the previous node and also keep head/tail tracking for easy add/removes\n",
    "\n",
    "\n",
    "\n",
    "\n"
   ]
  },
  {
   "cell_type": "code",
   "execution_count": 18,
   "id": "ab893428",
   "metadata": {},
   "outputs": [],
   "source": [
    "# Create a linked list (Singly)\n",
    "\n",
    "class ListNode:\n",
    "    def __init__(self, val):\n",
    "        self.val = val\n",
    "        self.next = None\n",
    "        \n",
    "one = ListNode(1)\n",
    "two = ListNode(2)\n",
    "three = ListNode(3)\n",
    "\n",
    "one.next = two\n",
    "two.next = three\n",
    "head = one\n",
    "\n",
    "# Traverse a linked list\n",
    "def traverseLinkedList(self, head):\n",
    "    while (head):\n",
    "        head = head.next\n",
    "        # statements\n",
    "\n",
    "# Add / Remove Node to/from \n",
    "def AddNodes(prev_node, node_ToAdd):\n",
    "    node_ToAdd.next = prev.node.next\n",
    "    prev_node.next = node_ToAdd\n",
    "\n",
    "def deleteNode(prev_node):\n",
    "    prev_node = prev_node.next.next\n",
    "    \n",
    "#-------------------------------------\n",
    "\n",
    "# Doubly Linked List:\n",
    "\n",
    "# Add / Remove Node:\n",
    "def addNodesDoubly(node, node_add):\n",
    "    prev_node = node.prev # extra value created to hold prev node\n",
    "    node_add.prev = prev_node\n",
    "    node_add.next = node\n",
    "    node.prev = node_add\n",
    "    prev_node.next = node_add\n",
    "    \n",
    "\n",
    "# Sentinel Nodes:\n",
    "# head, tail, used to mark the node start/end of linked list and keeping tracking \n",
    "# without affecting the real node value"
   ]
  },
  {
   "cell_type": "markdown",
   "id": "8d7893d4",
   "metadata": {},
   "source": [
    "### 2.2.1 Fast and Slow Pointers\n",
    "##### Similar to two pointers, but both usually moving at distinct speeds: fast pointer moving up by 2 pointers, while slow pointer by only 1 (although this is not always the case)\n",
    "\n",
    "```\n",
    "# head = head node of the linked list\n",
    "slow = head\n",
    "fast = head\n",
    "\n",
    "while fast and fast.next: # checks if fast.next is not null because of fast pointer jumping in two steps\n",
    "    #do some stuff\n",
    "    # update pointers\n",
    "    slow = slow.next\n",
    "    fast = fast.next.next\n",
    "```\n"
   ]
  },
  {
   "cell_type": "code",
   "execution_count": 17,
   "id": "5f155b3f",
   "metadata": {},
   "outputs": [],
   "source": [
    "# Examples where using Fast/Slow Pointers comes handy\n",
    "\n",
    "# 1. Find the middle of the linked list\n",
    "'''\n",
    "Basically, by the time that the fast pointer reaches the end, the slow pointer is only halfway there\n",
    "'''\n",
    "def findMiddle(head):\n",
    "    slow = head\n",
    "    fast = head\n",
    "    while fast and fast.next:\n",
    "        slow = head.next\n",
    "        fast = head.next.next\n",
    "    return slow.val\n",
    "\n",
    "# 2. 141(LC) Linked List Cycle\n",
    "\n"
   ]
  },
  {
   "cell_type": "markdown",
   "id": "8510dbd1",
   "metadata": {},
   "source": [
    "### 2.3.1 Reversing Linked Lists"
   ]
  },
  {
   "cell_type": "code",
   "execution_count": null,
   "id": "d1406df4",
   "metadata": {},
   "outputs": [],
   "source": []
  }
 ],
 "metadata": {
  "kernelspec": {
   "display_name": "Python 3 (ipykernel)",
   "language": "python",
   "name": "python3"
  },
  "language_info": {
   "codemirror_mode": {
    "name": "ipython",
    "version": 3
   },
   "file_extension": ".py",
   "mimetype": "text/x-python",
   "name": "python",
   "nbconvert_exporter": "python",
   "pygments_lexer": "ipython3",
   "version": "3.9.7"
  },
  "vscode": {
   "interpreter": {
    "hash": "369f2c481f4da34e4445cda3fffd2e751bd1c4d706f27375911949ba6bb62e1c"
   }
  }
 },
 "nbformat": 4,
 "nbformat_minor": 5
}

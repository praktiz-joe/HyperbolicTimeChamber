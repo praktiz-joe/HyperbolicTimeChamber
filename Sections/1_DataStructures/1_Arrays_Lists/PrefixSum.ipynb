{
 "cells": [
  {
   "cell_type": "markdown",
   "id": "819425c5",
   "metadata": {},
   "source": [
    "### Prefix Sum"
   ]
  },
  {
   "cell_type": "code",
   "execution_count": null,
   "id": "ecdb116a",
   "metadata": {},
   "outputs": [],
   "source": [
    "'''\n",
    "Example 2: Given array nums, return the minimum absolute difference.\n",
    "'''\n",
    "'''\n",
    "The logic in this example is to do a prefix sum and then compare the indeces from prefix and taking the average minimum value\n",
    "'''\n",
    "    def minimumAverageDifference(self, nums: List[int]) -> int:\n",
    "        if len(nums) == 1:\n",
    "            return 0\n",
    "        \n",
    "        init = float('inf')\n",
    "        curr = ans = 0 \n",
    "        prefix = [nums[0]]\n",
    "        \n",
    "        for i in range(1, len(nums)):\n",
    "            prefix.append(nums[i] + prefix[len(prefix) - 1])\n",
    "            \n",
    "        for k in range(len(nums)):\n",
    "            if len(nums) - k - 1 == 0:\n",
    "                curr = abs((prefix[len(nums)-1] // (len(nums))))\n",
    "            else:\n",
    "                curr = abs((prefix[k] // (k + 1)) - ((prefix[len(nums) - 1] - prefix[k]) // (len(nums) - (k + 1))))\n",
    "            if init > curr:\n",
    "                init = curr\n",
    "                ans = k\n",
    "                \n",
    "        return ans\n",
    "    "
   ]
  }
 ],
 "metadata": {
  "kernelspec": {
   "display_name": "Python 3 (ipykernel)",
   "language": "python",
   "name": "python3"
  },
  "language_info": {
   "codemirror_mode": {
    "name": "ipython",
    "version": 3
   },
   "file_extension": ".py",
   "mimetype": "text/x-python",
   "name": "python",
   "nbconvert_exporter": "python",
   "pygments_lexer": "ipython3",
   "version": "3.9.7"
  }
 },
 "nbformat": 4,
 "nbformat_minor": 5
}

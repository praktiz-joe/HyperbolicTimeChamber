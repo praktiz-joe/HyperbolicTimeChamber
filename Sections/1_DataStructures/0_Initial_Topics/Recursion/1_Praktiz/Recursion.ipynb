{
 "cells": [
  {
   "cell_type": "code",
   "execution_count": null,
   "id": "4adbe161",
   "metadata": {},
   "outputs": [],
   "source": [
    "# #258. Add Digits\n",
    "\n",
    "# # Sum of digits: Returns the sum of digits of a number (i.e., 125 --> 1+2+5 --> 8)\n",
    "# def sumOfDigits(n):\n",
    "#     if n <= 9: return n\n",
    "#     return n%10 + sumOfDigits(n//10)\n",
    "# sumOfDigits(125)\n",
    "\n",
    "# # Sum of Digits Repeatedly: Returns the sum of digits when the result is only one digit\n",
    "# #(i.e, 932 --> 9+3+2 = 14 --> 1+4 = 5 )\n",
    "# def sumOfDigitsRep(n):\n",
    "#     if n<= 9: return n\n",
    "#     return sumOfDigitsRep(n%10 + sumOfDigits(n//10))\n",
    "# sumOfDigitsRep(0)\n",
    "\n",
    "# O(1) approach\n",
    "# def sumOfDigitsRep(n):\n",
    "#     return n if n <= 9 else n%9\n",
    "# sumOfDigitsRep(932)"
   ]
  },
  {
   "cell_type": "code",
   "execution_count": null,
   "id": "12cc5f33",
   "metadata": {},
   "outputs": [],
   "source": [
    "# def gcd(a,b):\n",
    "#     return gcd(b,a%b) if b != 0 else a\n",
    "\n",
    "# gcd(10,81)"
   ]
  },
  {
   "cell_type": "code",
   "execution_count": 17,
   "id": "36ef3a94",
   "metadata": {},
   "outputs": [
    {
     "name": "stdout",
     "output_type": "stream",
     "text": [
      "Move disk from A to C\n"
     ]
    }
   ],
   "source": [
    "\n",
    "# def TOH(n,start,mid,end):\n",
    "#     if (n>0):\n",
    "#         TOH(n-1,start,end, mid)\n",
    "#         print(\"Move disk from\",start,\"to\",end)\n",
    "#         return TOH(n-1,mid,start,end)\n",
    "# #     \n",
    "    \n",
    "    \n",
    "# TOH(1,\"A\",\"B\",\"C\")"
   ]
  },
  {
   "cell_type": "code",
   "execution_count": null,
   "id": "5eadc93e",
   "metadata": {},
   "outputs": [],
   "source": []
  }
 ],
 "metadata": {
  "kernelspec": {
   "display_name": "Python 3 (ipykernel)",
   "language": "python",
   "name": "python3"
  },
  "language_info": {
   "codemirror_mode": {
    "name": "ipython",
    "version": 3
   },
   "file_extension": ".py",
   "mimetype": "text/x-python",
   "name": "python",
   "nbconvert_exporter": "python",
   "pygments_lexer": "ipython3",
   "version": "3.9.12"
  }
 },
 "nbformat": 4,
 "nbformat_minor": 5
}

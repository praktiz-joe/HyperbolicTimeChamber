{
 "cells": [
  {
   "cell_type": "code",
   "execution_count": null,
   "id": "e8557c33",
   "metadata": {},
   "outputs": [],
   "source": [
    "# 509. Fibonnaci Sequence\n",
    "def fib(self, int n):\n",
    "    if(n<=1):\n",
    "        return n\n",
    "    return fib(n-2) + fib(n-1) \n",
    "\n",
    "# test\n",
    "#fib(3)\n",
    "\n",
    "# Notes: \n",
    "# The time completixity of this recursive function is 2^n (exponential time complexity)"
   ]
  },
  {
   "cell_type": "code",
   "execution_count": null,
   "id": "4645b759",
   "metadata": {},
   "outputs": [],
   "source": [
    "# Sum of first N Natural numbers (1 to n)\n",
    "def sumNaturals(n):\n",
    "    if n == 1:\n",
    "        return n\n",
    "    else:\n",
    "        return n + sumNaturals(n-1)\n",
    "# test:    \n",
    "#sumNaturals(3)\n",
    "\n",
    "# Notes:\n",
    "# The time complexity of this recursive call is O(N)"
   ]
  },
  {
   "cell_type": "code",
   "execution_count": null,
   "id": "a063d376",
   "metadata": {},
   "outputs": [],
   "source": [
    "# Factorial of a Number (n!)\n",
    "def factorial(n):\n",
    "    if n <= 1:\n",
    "        return n\n",
    "    else: \n",
    "        return n * factorial(n-1)\n",
    "# test\n",
    "#factorial(4) # expected output = 24\n",
    "\n",
    "# Notes:\n",
    "# The time complexity of this recursive call is O(N)"
   ]
  },
  {
   "cell_type": "code",
   "execution_count": null,
   "id": "f054fba0",
   "metadata": {},
   "outputs": [],
   "source": [
    "# Power of a number (Method 1)\n",
    "def pow(n,exp):\n",
    "    if exp == 0:\n",
    "        return 1\n",
    "    else:\n",
    "        return n * pow(n, exp -1)\n",
    "# test\n",
    "#pow(2,3) #output should be 8\n",
    "\n",
    "# Notes:\n",
    "# the time complexity is O(N)\n",
    "\n",
    "# Power of a number (Method 2)\n",
    "def pow(n, exp):\n",
    "    if exp == 0:\n",
    "        return 1\n",
    "    elif exp % 2 == 0: # even\n",
    "        return pow(n*n, exp/2)\n",
    "    else:\n",
    "        return n * pow(n*n, (exp-1)/2)\n",
    "\n",
    "# test\n",
    "#pow(2,3) #output should be 8\n",
    "       \n",
    "# Notes:\n",
    "# the time complexity is O(log N)"
   ]
  },
  {
   "cell_type": "code",
   "execution_count": null,
   "id": "4adbe161",
   "metadata": {},
   "outputs": [],
   "source": [
    "# #258. Add Digits\n",
    "\n",
    "# Sum of digits: Returns the sum of digits of a number (i.e., 125 --> 1+2+5 --> 8)\n",
    "def sumOfDigits(n):\n",
    "    if n <= 9: return n\n",
    "    return n%10 + sumOfDigits(n//10)\n",
    "sumOfDigits(125)\n",
    "\n"
   ]
  },
  {
   "cell_type": "code",
   "execution_count": null,
   "id": "e8367698",
   "metadata": {},
   "outputs": [],
   "source": [
    "# Sum of Digits Repeatedly: Returns the sum of digits when the result is only one digit\n",
    "#(i.e, 932 --> 9+3+2 = 14 --> 1+4 = 5 )\n",
    "def sumOfDigitsRep(n):\n",
    "    if n<= 9: return n\n",
    "    return sumOfDigitsRep(n%10 + sumOfDigits(n//10))\n",
    "sumOfDigitsRep(0)\n",
    "\n",
    "O(1) approach\n",
    "def sumOfDigitsRep(n):\n",
    "    return n if n <= 9 else n%9\n",
    "sumOfDigitsRep(932)"
   ]
  },
  {
   "cell_type": "code",
   "execution_count": null,
   "id": "12cc5f33",
   "metadata": {},
   "outputs": [],
   "source": [
    "def gcd(a,b):\n",
    "    return gcd(b,a%b) if b != 0 else a\n",
    "\n",
    "gcd(10,81)"
   ]
  },
  {
   "cell_type": "code",
   "execution_count": null,
   "id": "36ef3a94",
   "metadata": {},
   "outputs": [],
   "source": [
    "\n",
    "def TOH(n,start,mid,end):\n",
    "    if (n>0):\n",
    "        TOH(n-1,start,end, mid)\n",
    "        print(\"Move disk from\",start,\"to\",end)\n",
    "        return TOH(n-1,mid,start,end)  \n",
    "    \n",
    "# TOH(1,\"A\",\"B\",\"C\")"
   ]
  },
  {
   "cell_type": "code",
   "execution_count": null,
   "id": "5eadc93e",
   "metadata": {},
   "outputs": [],
   "source": []
  }
 ],
 "metadata": {
  "kernelspec": {
   "display_name": "Python 3 (ipykernel)",
   "language": "python",
   "name": "python3"
  },
  "language_info": {
   "codemirror_mode": {
    "name": "ipython",
    "version": 3
   },
   "file_extension": ".py",
   "mimetype": "text/x-python",
   "name": "python",
   "nbconvert_exporter": "python",
   "pygments_lexer": "ipython3",
   "version": "3.9.12"
  }
 },
 "nbformat": 4,
 "nbformat_minor": 5
}

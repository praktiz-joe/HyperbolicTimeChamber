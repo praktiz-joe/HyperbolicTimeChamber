{
 "cells": [
  {
   "cell_type": "markdown",
   "id": "1d55ffca",
   "metadata": {},
   "source": [
    "## Two Pointers"
   ]
  },
  {
   "cell_type": "markdown",
   "id": "060c12b2",
   "metadata": {},
   "source": [
    "### 1.1 Two Pointers Exercises\n",
    "\n",
    "Based on 4 different main categories:\n",
    "1. Running from both ends of the array\n",
    "> Having two pointers, one at the left bound, one at the right bound(len(arr)-1) and looping while i < j\n",
    "    \n",
    "    1. 2 SUM Problems\n",
    "    2. Trapping Water\n",
    "    3. Next Permutation\n",
    "    4. Reversing / Swapping\n",
    "    5. Others\n",
    "2. Slow & Fast Pointers\n",
    "> *ADD DeSCRIPTION HERE WHEN READY*\n",
    "\n",
    "    1. Linked List Operations\n",
    "    2. Cyclic Detection\n",
    "    3. Sliding Window/Caterpillar Method\n",
    "    4. Rotation\n",
    "    5. String\n",
    "    6. Remove Duplicate\n",
    "    7. Others\n",
    "\n",
    "3. Running from beginning of 2 arrays / MErging 2 arrays\n",
    "> *ADD DeSCRIPTION HERE WHEN READY*\n",
    "\n",
    "    1. Sorted arrays\n",
    "    2. Intersections/LCA like\n",
    "    3. Substring\n",
    "    4. Median Finder\n",
    "    5. Meet in the middle/Binary Search\n",
    "    6. Others\n",
    "    \n",
    "4. Split & Merge of an array / Divide & Conquer\n",
    "> *ADD DeSCRIPTION HERE WHEN READY*\n",
    "    \n",
    "    1. Partition\n",
    "    2. Sorting"
   ]
  },
  {
   "cell_type": "code",
   "execution_count": null,
   "id": "980abde1",
   "metadata": {},
   "outputs": [],
   "source": [
    "# 125. Valid Palindrome (EASY)\n",
    "def isPalindrome(s): \n",
    "    # fix string\n",
    "    s = s.strip().replace(\" \",\"\")\n",
    "    s = ''.join(ch for ch in s if ch.isalnum())\n",
    "    s = s.upper()\n",
    "    # validate is palindrome\n",
    "    i = 0\n",
    "    j = len(s) - 1\n",
    "    while i < j:\n",
    "        if s[i] != s[j]:\n",
    "            return False\n",
    "        i += 1; \n",
    "        j -= 1\n",
    "    return True\n",
    "    \n",
    "# test    \n",
    "s = \"apAp\"\n",
    "isPalindrome(s)"
   ]
  },
  {
   "cell_type": "code",
   "execution_count": null,
   "id": "5c293bc8",
   "metadata": {},
   "outputs": [],
   "source": [
    "# 680. Valid Palindrome II (EASY)):\n",
    "def validPalindrome(s):\n",
    "    \n",
    "    def isPalindrome(s,i,j):\n",
    "        while i < j:\n",
    "            if s[i] != s[j]:\n",
    "                return False\n",
    "            i += 1\n",
    "            j -= 1\n",
    "        return True\n",
    "        \n",
    "    i = 0\n",
    "    j = len(s) - 1\n",
    "        \n",
    "    while i < j:\n",
    "        if s[i] != s[j]:\n",
    "            return isPalindrome(s, i + 1, j) or isPalindrome(s, i, j - 1)\n",
    "        i += 1\n",
    "        j -= 1\n",
    "    return True\n",
    "\n",
    "# test  \n",
    "validPalindrome(\"aparapa\")"
   ]
  },
  {
   "cell_type": "code",
   "execution_count": null,
   "id": "adb27ffe",
   "metadata": {},
   "outputs": [],
   "source": [
    "# Exercise 344: Reverse a string (EASY)\n",
    "def reverseString(s):\n",
    "    i = 0\n",
    "    j = len(s) - 1\n",
    "    while i < j:\n",
    "        a = s[i]\n",
    "        s[i] = s[j]\n",
    "        s[j] = a\n",
    "        i += 1\n",
    "        j -= 1\n",
    "    return s\n",
    "\n",
    "# Method 2: \n",
    "# return(s[::-1])\n",
    "    \n",
    "# test  \n",
    "reverseString([\"H\",\"a\",\"n\",\"n\",\"a\",\"h\"])"
   ]
  },
  {
   "cell_type": "code",
   "execution_count": null,
   "id": "139ed9f0",
   "metadata": {},
   "outputs": [],
   "source": [
    "# Exercise 392. Is Subsequence (EASY)\n",
    "def subSeq(n,A):\n",
    "    i = 0\n",
    "    j = 0\n",
    "    while j < len(A):\n",
    "        if n[i] == A[j]:\n",
    "            i += 1\n",
    "        j += 1\n",
    "        if len(n) == i:\n",
    "            return True\n",
    "    return False\n",
    "# test  \n",
    "subSeq(\"ar\",\"Array\")"
   ]
  },
  {
   "cell_type": "code",
   "execution_count": null,
   "id": "8eaf5e46",
   "metadata": {},
   "outputs": [],
   "source": [
    "# 941. Valid Mountain Array (EASY)\n",
    "def validMountainArray(arr):\n",
    "    if len(arr) < 3:\n",
    "        return False\n",
    "    i, j = 0, len(arr) - 1\n",
    "    while i < j:\n",
    "        if arr[i] < arr[i+1]:\n",
    "                i += 1\n",
    "        elif arr[j-1] > arr[j]:\n",
    "                j -= 1\n",
    "        else:\n",
    "            return i == j\n",
    "    return i == j and i != len(arr) - 1 and j != 0\n",
    "# test  \n",
    "validMountainArray([1,2,3,2,2,1])"
   ]
  },
  {
   "cell_type": "code",
   "execution_count": null,
   "id": "e7e78e10",
   "metadata": {},
   "outputs": [],
   "source": [
    "# 11. Container With Most Water (MEDIUM) https://leetcode.com/problems/container-with-most-water/\n",
    "# Return the maximum amount of water a container can store. \n",
    "'''\n",
    "The goal is to get the maximum area that can hold water in that container. Area = length x width (height)\n",
    "Yo can use two pointers, you get the current area and compare that to the previous area value stored \n",
    "and get the max\n",
    "'''\n",
    "\n",
    "def maxArea(height):\n",
    "    n = height\n",
    "    i = 0\n",
    "    j = len(n) - 1\n",
    "    area = 0\n",
    "    if len(n) == 2:\n",
    "        return min(n[i], n[j])\n",
    "    else:\n",
    "        while i < j:\n",
    "            print(n[i], n[j])\n",
    "            h = min(n[i], n[j])\n",
    "            w = j - i\n",
    "            area = max(area,h * w)\n",
    "            if n[i] <= n[j]:\n",
    "                i += 1\n",
    "            else: \n",
    "                j -= 1\n",
    "    return area\n",
    "\n",
    "# test\n",
    "maxArea([1,3])"
   ]
  },
  {
   "cell_type": "code",
   "execution_count": 20,
   "id": "89be5ae8",
   "metadata": {},
   "outputs": [
    {
     "data": {
      "text/plain": [
       "[1, 2]"
      ]
     },
     "execution_count": 20,
     "metadata": {},
     "output_type": "execute_result"
    }
   ],
   "source": [
    "# 167. Two Sum II - Input Array Is Sorted (Medium) https://leetcode.com/problems/two-sum-ii-input-array-is-sorted/\n",
    "# Given an sorted array of integers nums and an integer target, return indices of the two numbers such that they add up to target + 1.\n",
    "'''\n",
    "The goal is to return the indices of the two number that add up to target, without using an element twice.\n",
    "- You can use two pointers two start at both sides, when left and right matches target you can return the indices \n",
    "- else if the sum both bounds is greater than target, that means you need to reduce the total sum. \n",
    "    - How? by moving the right pointer to the left (because arr[right-1] <= arr[right])\n",
    "- else the sum is lower than target so you need to get a bigger number to sum; you'll move the left bound up \n",
    "    (arr[left] <= arr[left+1])\n",
    "Make sure to follow/use the constrainsts given (i.e., same index not valid, sorted array, etc.)\n",
    "\n",
    "'''\n",
    "\n",
    "def twoSumII(numbers, target):\n",
    "    left, right  = 0, len(numbers) - 1\n",
    "    while left < right:\n",
    "        if numbers[left] + numbers[right] == target and left != right:\n",
    "            return [left + 1, right + 1]\n",
    "        elif numbers[left] + numbers[right] > target:\n",
    "            right -= 1\n",
    "        else:\n",
    "            left += 1\n",
    "    return [left + 1, right + 1]\n",
    "#test \n",
    "twoSumII([1,3,4,6],4)"
   ]
  },
  {
   "cell_type": "code",
   "execution_count": null,
   "id": "70f64e8a",
   "metadata": {},
   "outputs": [],
   "source": []
  },
  {
   "cell_type": "code",
   "execution_count": null,
   "id": "188d32bb",
   "metadata": {},
   "outputs": [],
   "source": []
  }
 ],
 "metadata": {
  "kernelspec": {
   "display_name": "Python 3 (ipykernel)",
   "language": "python",
   "name": "python3"
  },
  "language_info": {
   "codemirror_mode": {
    "name": "ipython",
    "version": 3
   },
   "file_extension": ".py",
   "mimetype": "text/x-python",
   "name": "python",
   "nbconvert_exporter": "python",
   "pygments_lexer": "ipython3",
   "version": "3.9.12"
  }
 },
 "nbformat": 4,
 "nbformat_minor": 5
}

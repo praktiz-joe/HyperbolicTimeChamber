{
 "cells": [
  {
   "cell_type": "markdown",
   "id": "1c72d7ad",
   "metadata": {},
   "source": [
    "# Linked Lists"
   ]
  },
  {
   "cell_type": "markdown",
   "id": "91243cb0",
   "metadata": {},
   "source": [
    "### 2.1.1 Linked Lists Overview\n",
    "##### Linked lists are an ordered collection of elements, like arrays. The main difference is the implementation process; they utilize pointers and they are used to implement other data structures as well. \n",
    "\n",
    "#### Topics to be covered: \n",
    "1. Fast and Slow Pointer\n",
    "2. Reversing a linked list\n",
    "3. Singly vs Doubly Linked Lists\n",
    "4. Two Pointers Linked Lists\n",
    "5. Classic Problems\n",
    "\n"
   ]
  },
  {
   "cell_type": "markdown",
   "id": "8d7893d4",
   "metadata": {},
   "source": [
    "### 2.2.1 Fast and Slow Pointers"
   ]
  },
  {
   "cell_type": "markdown",
   "id": "8510dbd1",
   "metadata": {},
   "source": [
    "### 2.3.1 Reversing Linked Lists"
   ]
  }
 ],
 "metadata": {
  "kernelspec": {
   "display_name": "Python 3",
   "language": "python",
   "name": "python3"
  },
  "language_info": {
   "codemirror_mode": {
    "name": "ipython",
    "version": 3
   },
   "file_extension": ".py",
   "mimetype": "text/x-python",
   "name": "python",
   "nbconvert_exporter": "python",
   "pygments_lexer": "ipython3",
   "version": "3.8.8"
  }
 },
 "nbformat": 4,
 "nbformat_minor": 5
}
